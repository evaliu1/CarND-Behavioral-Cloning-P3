{
 "cells": [
  {
   "cell_type": "markdown",
   "metadata": {},
   "source": [
    "**Run all the cells below to make sure everything is working and ready to go. All cells should run without error.**"
   ]
  },
  {
   "cell_type": "markdown",
   "metadata": {},
   "source": [
    "### Set up the Library"
   ]
  },
  {
   "cell_type": "code",
   "execution_count": 1,
   "metadata": {
    "collapsed": true
   },
   "outputs": [],
   "source": [
    "import matplotlib.pyplot as plt\n",
    "import matplotlib.image as mpimg\n",
    "import pandas as pd\n",
    "import numpy as np\n",
    "import csv\n",
    "import cv2\n",
    "import os\n",
    "import math\n",
    "from PIL import Image         \n",
    "from os import getcwd\n",
    "import tensorflow as tf\n",
    "\n",
    "from sklearn.model_selection import train_test_split\n",
    "from sklearn.utils import shuffle\n",
    "%matplotlib inline"
   ]
  },
  {
   "cell_type": "markdown",
   "metadata": {},
   "source": [
    "### Load the images and data "
   ]
  },
  {
   "cell_type": "code",
   "execution_count": 2,
   "metadata": {
    "collapsed": true
   },
   "outputs": [],
   "source": [
    "lines= []\n",
    "with open('data1/driving_log.csv') as csvfile:\n",
    "    reader = csv.reader(csvfile)\n",
    "    for line in reader:\n",
    "        lines.append(line)\n",
    "        \n",
    "train_samples, validation_samples = train_test_split(lines, test_size=0.05)\n",
    "        \n",
    "#np.random.shuffle(lines)\n",
    "#split_i = int(len(lines) * 0.9)\n",
    "#X_train, y_train = list(zip(*lines[:split_i]))\n",
    "#X_valid, y_valid = list(zip(*lines[split_i:]))\n",
    "\n",
    "\n",
    "#X_train, y_train = np.array(X_train), np.array(y_train)\n",
    "#X_valid, y_valid = np.array(X_valid), np.array(y_valid) \n",
    "        "
   ]
  },
  {
   "cell_type": "markdown",
   "metadata": {},
   "source": [
    "### Generator"
   ]
  },
  {
   "cell_type": "code",
   "execution_count": 3,
   "metadata": {},
   "outputs": [
    {
     "name": "stdout",
     "output_type": "stream",
     "text": [
      "30485\n",
      "1605\n",
      "Done Generator\n"
     ]
    }
   ],
   "source": [
    "import numpy as np\n",
    "from scipy.misc import imread, imresize\n",
    "\n",
    "# Define the generator function\n",
    "import cv2\n",
    "import numpy as np\n",
    "import sklearn\n",
    "\n",
    "def generator(samples, batch_size=32):\n",
    "    num_samples = len(samples)\n",
    "    while 1: # Loop forever so the generator never terminates\n",
    "        shuffle(samples)\n",
    "        for offset in range(0, num_samples, batch_size):\n",
    "            batch_samples = samples[offset:offset+batch_size]\n",
    "            images = []\n",
    "            angles = []\n",
    "            for batch_sample in batch_samples:\n",
    "                name = batch_sample[0]\n",
    "                img = mpimg.imread(name)\n",
    "                \n",
    "                center_angle = float(batch_sample[3])  \n",
    "                images.append(img)\n",
    "                angles.append(center_angle)\n",
    "\n",
    "            # trim image to only see section with road\n",
    "            X_train = np.array(images)\n",
    "            y_train = np.array(angles)\n",
    "            yield sklearn.utils.shuffle(X_train, y_train)\n",
    "\n",
    "# compile and train the model using the generator function\n",
    "train_generator = generator(train_samples, batch_size=32)\n",
    "validation_generator = generator(validation_samples, batch_size=32)\n",
    "print(len(train_samples))\n",
    "print(len(validation_samples))\n",
    "print('Done Generator')"
   ]
  },
  {
   "cell_type": "markdown",
   "metadata": {},
   "source": [
    "### Set the Trainning Data"
   ]
  },
  {
   "cell_type": "code",
   "execution_count": 4,
   "metadata": {},
   "outputs": [
    {
     "name": "stderr",
     "output_type": "stream",
     "text": [
      "Using TensorFlow backend.\n"
     ]
    },
    {
     "name": "stdout",
     "output_type": "stream",
     "text": [
      "____________________________________________________________________________________________________\n",
      "Layer (type)                     Output Shape          Param #     Connected to                     \n",
      "====================================================================================================\n",
      "cropping2d_1 (Cropping2D)        (None, 80, 320, 3)    0           cropping2d_input_1[0][0]         \n",
      "____________________________________________________________________________________________________\n",
      "lambda_1 (Lambda)                (None, 66, 200, 3)    0           cropping2d_1[0][0]               \n",
      "____________________________________________________________________________________________________\n",
      "lambda_2 (Lambda)                (None, 66, 200, 3)    0           lambda_1[0][0]                   \n",
      "____________________________________________________________________________________________________\n",
      "convolution2d_1 (Convolution2D)  (None, 33, 100, 24)   1824        lambda_2[0][0]                   \n",
      "____________________________________________________________________________________________________\n",
      "spatialdropout2d_1 (SpatialDropo (None, 33, 100, 24)   0           convolution2d_1[0][0]            \n",
      "____________________________________________________________________________________________________\n",
      "convolution2d_2 (Convolution2D)  (None, 17, 50, 36)    21636       spatialdropout2d_1[0][0]         \n",
      "____________________________________________________________________________________________________\n",
      "spatialdropout2d_2 (SpatialDropo (None, 17, 50, 36)    0           convolution2d_2[0][0]            \n",
      "____________________________________________________________________________________________________\n",
      "convolution2d_3 (Convolution2D)  (None, 7, 23, 48)     43248       spatialdropout2d_2[0][0]         \n",
      "____________________________________________________________________________________________________\n",
      "spatialdropout2d_3 (SpatialDropo (None, 7, 23, 48)     0           convolution2d_3[0][0]            \n",
      "____________________________________________________________________________________________________\n",
      "convolution2d_4 (Convolution2D)  (None, 5, 21, 64)     27712       spatialdropout2d_3[0][0]         \n",
      "____________________________________________________________________________________________________\n",
      "spatialdropout2d_4 (SpatialDropo (None, 5, 21, 64)     0           convolution2d_4[0][0]            \n",
      "____________________________________________________________________________________________________\n",
      "convolution2d_5 (Convolution2D)  (None, 3, 19, 64)     36928       spatialdropout2d_4[0][0]         \n",
      "____________________________________________________________________________________________________\n",
      "spatialdropout2d_5 (SpatialDropo (None, 3, 19, 64)     0           convolution2d_5[0][0]            \n",
      "____________________________________________________________________________________________________\n",
      "flatten_1 (Flatten)              (None, 3648)          0           spatialdropout2d_5[0][0]         \n",
      "____________________________________________________________________________________________________\n",
      "activation_1 (Activation)        (None, 3648)          0           flatten_1[0][0]                  \n",
      "____________________________________________________________________________________________________\n",
      "dense_1 (Dense)                  (None, 100)           364900      activation_1[0][0]               \n",
      "____________________________________________________________________________________________________\n",
      "activation_2 (Activation)        (None, 100)           0           dense_1[0][0]                    \n",
      "____________________________________________________________________________________________________\n",
      "dense_2 (Dense)                  (None, 50)            5050        activation_2[0][0]               \n",
      "____________________________________________________________________________________________________\n",
      "activation_3 (Activation)        (None, 50)            0           dense_2[0][0]                    \n",
      "____________________________________________________________________________________________________\n",
      "dropout_1 (Dropout)              (None, 50)            0           activation_3[0][0]               \n",
      "____________________________________________________________________________________________________\n",
      "dense_3 (Dense)                  (None, 1)             51          dropout_1[0][0]                  \n",
      "====================================================================================================\n",
      "Total params: 501,349\n",
      "Trainable params: 501,349\n",
      "Non-trainable params: 0\n",
      "____________________________________________________________________________________________________\n",
      "Epoch 1/20\n",
      "30485/30485 [==============================] - 786s - loss: 0.0507 - acc: 0.8001 - val_loss: 0.0439 - val_acc: 0.8037\n",
      "Epoch 2/20\n",
      "30485/30485 [==============================] - 775s - loss: 0.0474 - acc: 0.7999 - val_loss: 0.0431 - val_acc: 0.8037\n",
      "Epoch 3/20\n",
      "30485/30485 [==============================] - 797s - loss: 0.0472 - acc: 0.8000 - val_loss: 0.0435 - val_acc: 0.8037\n",
      "Epoch 4/20\n",
      "30485/30485 [==============================] - 811s - loss: 0.0472 - acc: 0.8000 - val_loss: 0.0429 - val_acc: 0.8037\n",
      "Epoch 5/20\n",
      "30485/30485 [==============================] - 760s - loss: 0.0466 - acc: 0.8000 - val_loss: 0.0428 - val_acc: 0.8037\n",
      "Epoch 6/20\n",
      "30485/30485 [==============================] - 746s - loss: 0.0470 - acc: 0.7998 - val_loss: 0.0447 - val_acc: 0.8019\n",
      "Epoch 7/20\n",
      "30485/30485 [==============================] - 745s - loss: 0.0468 - acc: 0.8001 - val_loss: 0.0436 - val_acc: 0.8037\n",
      "Epoch 8/20\n",
      "30485/30485 [==============================] - 744s - loss: 0.0465 - acc: 0.8000 - val_loss: 0.0435 - val_acc: 0.8031\n",
      "Epoch 9/20\n",
      "30485/30485 [==============================] - 743s - loss: 0.0463 - acc: 0.8001 - val_loss: 0.0439 - val_acc: 0.8031\n",
      "Epoch 10/20\n",
      "30485/30485 [==============================] - 743s - loss: 0.0464 - acc: 0.7998 - val_loss: 0.0434 - val_acc: 0.8031\n",
      "Epoch 11/20\n",
      "30485/30485 [==============================] - 745s - loss: 0.0465 - acc: 0.8001 - val_loss: 0.0430 - val_acc: 0.8037\n",
      "Epoch 12/20\n",
      "30485/30485 [==============================] - 744s - loss: 0.0461 - acc: 0.8000 - val_loss: 0.0433 - val_acc: 0.8037\n",
      "Epoch 13/20\n",
      "30485/30485 [==============================] - 743s - loss: 0.0461 - acc: 0.8003 - val_loss: 0.0432 - val_acc: 0.8037\n",
      "Epoch 14/20\n",
      "30485/30485 [==============================] - 744s - loss: 0.0462 - acc: 0.8000 - val_loss: 0.0425 - val_acc: 0.8037\n",
      "Epoch 15/20\n",
      "30485/30485 [==============================] - 746s - loss: 0.0462 - acc: 0.8002 - val_loss: 0.0422 - val_acc: 0.8037\n",
      "Epoch 16/20\n",
      "30485/30485 [==============================] - 754s - loss: 0.0462 - acc: 0.8004 - val_loss: 0.0428 - val_acc: 0.8037\n",
      "Epoch 17/20\n",
      "30485/30485 [==============================] - 752s - loss: 0.0460 - acc: 0.8005 - val_loss: 0.0427 - val_acc: 0.8037\n",
      "Epoch 18/20\n",
      "30485/30485 [==============================] - 752s - loss: 0.0455 - acc: 0.8002 - val_loss: 0.0432 - val_acc: 0.8044\n",
      "Epoch 19/20\n",
      "30485/30485 [==============================] - 753s - loss: 0.0455 - acc: 0.8004 - val_loss: 0.0431 - val_acc: 0.8031\n",
      "Epoch 20/20\n",
      "30485/30485 [==============================] - 751s - loss: 0.0457 - acc: 0.8003 - val_loss: 0.0425 - val_acc: 0.8037\n",
      "Saved model to disk\n",
      "Done\n"
     ]
    }
   ],
   "source": [
    "from keras.models import Sequential\n",
    "from keras.layers import Dense, Dropout, Activation, Flatten, SpatialDropout2D, ELU\n",
    "from keras.layers import Convolution2D, MaxPooling2D, Cropping2D\n",
    "from keras.layers.core import Lambda\n",
    "\n",
    "from keras.optimizers import SGD, Adam, RMSprop\n",
    "from keras.utils import np_utils\n",
    "from keras.callbacks import ModelCheckpoint\n",
    "\n",
    "from sklearn.model_selection import train_test_split\n",
    "from sklearn.utils import shuffle\n",
    "import tensorflow as tf\n",
    "\n",
    "def resize_comma(image):\n",
    "    import tensorflow as tf \n",
    "    return tf.image.resize_images(image, [66,200])\n",
    "\n",
    "model= Sequential()\n",
    "model.add(Cropping2D(cropping=((60, 20), (0, 0)),\n",
    "                     dim_ordering='tf', # default\n",
    "                     input_shape=(160, 320, 3)))\n",
    "#model.add(Lambda(lambda x: (x/255.0) - 0.5),input_shape=(160,320,3))\n",
    "\n",
    "# Resize the data\n",
    "#model.add(Lambda(resize_comma,input_shape=(160,320,3)))\n",
    "# Normalize the data set\n",
    "model.add(Lambda(resize_comma))\n",
    "model.add(Lambda(lambda x: (x/255.0) - 0.5))\n",
    "\n",
    "#onv2D(16,5,5, input_shape=(32, 16, 1), border_mode='same', activation='relu')\n",
    "#model.add(Convolution2D(16,5,5,activation=\"relu\"))\n",
    "#model.add(Convolution2D(32,5,5,activation = \"relu\"))\n",
    "#model.add(Convolution2D(64,5,5,activation = \"relu\"))\n",
    "#model.add(Convolution2D(128,5,5,activation = \"relu\"))\n",
    "#model.add(MaxPooling2D())\n",
    "model.add(Convolution2D(24, 5, 5, border_mode=\"same\", subsample=(2,2), activation=\"relu\"))\n",
    "model.add(SpatialDropout2D(0.2))\n",
    "model.add(Convolution2D(36, 5, 5, border_mode=\"same\", subsample=(2,2), activation=\"relu\"))\n",
    "model.add(SpatialDropout2D(0.2))\n",
    "model.add(Convolution2D(48, 5, 5, border_mode=\"valid\", subsample=(2,2), activation=\"relu\"))\n",
    "model.add(SpatialDropout2D(0.2))\n",
    "model.add(Convolution2D(64, 3, 3, border_mode=\"valid\", activation=\"relu\"))\n",
    "model.add(SpatialDropout2D(0.2))\n",
    "model.add(Convolution2D(64, 3, 3, border_mode=\"valid\", activation=\"relu\"))\n",
    "model.add(SpatialDropout2D(0.2))\n",
    "\n",
    "\n",
    "model.add(Flatten())\n",
    "model.add(Activation('relu'))\n",
    "\n",
    "#model.add(Dense(1164))\n",
    "#model.add(Activation('relu'))\n",
    "\n",
    "model.add(Dense(100))\n",
    "model.add(Activation('relu'))\n",
    "\n",
    "model.add(Dense(50))\n",
    "model.add(Activation('relu'))\n",
    "model.add(Dropout(0.5))\n",
    "\n",
    "model.add(Dense(1))\n",
    "#adam = Adam(lr=0.0001)\n",
    "adam = Adam(lr=0.001, beta_1=0.9, beta_2=0.999, epsilon=1e-08, decay=0.01)\n",
    "\n",
    "model.compile(loss='mse', optimizer='adam',metrics=['accuracy'])\n",
    "model.summary()\n",
    "#model.fit(myTrain,validation_split =0.2, shuffle=True, nb_epoch=3)\n",
    "#model.fit(X_train, Y_train, nb_epoch=3,verbose=1, validation_data=(X_valid, Y_valid))\n",
    "model.fit_generator(train_generator, samples_per_epoch= len(train_samples), validation_data=validation_generator,\n",
    "           nb_val_samples=len(validation_samples), nb_epoch=20)\n",
    "\n",
    "from keras.models import model_from_json\n",
    "\n",
    "#model_json = model.to_json()\n",
    "#with open(\"model-4b.json\", \"w\") as json_file:\n",
    "#    json_file.write(model_json)\n",
    "    \n",
    "#model.save_weights(\"model.h5\")\n",
    "print(\"Saved model to disk\")\n",
    "model.save(\"model.h5\")\n",
    "print('Done')"
   ]
  },
  {
   "cell_type": "code",
   "execution_count": null,
   "metadata": {
    "collapsed": true
   },
   "outputs": [],
   "source": []
  },
  {
   "cell_type": "code",
   "execution_count": null,
   "metadata": {
    "collapsed": true
   },
   "outputs": [],
   "source": []
  },
  {
   "cell_type": "code",
   "execution_count": null,
   "metadata": {
    "collapsed": true
   },
   "outputs": [],
   "source": []
  }
 ],
 "metadata": {
  "anaconda-cloud": {},
  "kernelspec": {
   "display_name": "Python 3",
   "language": "python",
   "name": "python3"
  },
  "language_info": {
   "codemirror_mode": {
    "name": "ipython",
    "version": 3
   },
   "file_extension": ".py",
   "mimetype": "text/x-python",
   "name": "python",
   "nbconvert_exporter": "python",
   "pygments_lexer": "ipython3",
   "version": "3.5.2"
  },
  "widgets": {
   "state": {},
   "version": "1.1.2"
  }
 },
 "nbformat": 4,
 "nbformat_minor": 1
}
